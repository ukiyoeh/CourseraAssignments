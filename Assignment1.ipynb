{
 "cells": [
  {
   "cell_type": "markdown",
   "id": "08396e89-19fb-492e-b660-e03f217f759b",
   "metadata": {},
   "source": [
    "Assigment1"
   ]
  },
  {
   "cell_type": "markdown",
   "id": "aa546f75-7fbb-41e5-b943-f9db4380d399",
   "metadata": {},
   "source": [
    "This is Exercise 3.\n",
    "Hi Everyone, This is a basic introduction of this notebook "
   ]
  },
  {
   "cell_type": "markdown",
   "id": "797b19c4-9014-455b-a449-4d0a0094d018",
   "metadata": {},
   "source": [
    "Listing Data SCience Languages\n",
    "1. Python\n",
    "2. R"
   ]
  },
  {
   "cell_type": "markdown",
   "id": "442a92ab-0ba7-4fea-9d1f-53c3b48332e8",
   "metadata": {},
   "source": [
    "Data science libraries for Python and R:\n",
    "Python - scikit-learn\n",
    "R- Caret|"
   ]
  },
  {
   "cell_type": "markdown",
   "id": "4c6d36d8-4b67-4575-ab3d-1bf48dc9f0b1",
   "metadata": {},
   "source": [
    "Data Science tools\n",
    "\n",
    "Category\tTool\n",
    "Programming Languages\tPython, R\n",
    "IDEs\tJupyter Notebooks, RStudio, VS Code\n",
    "Data Manipulation\tPandas (Python), dplyr (R)\n",
    "Data Visualization\tMatplotlib, Seaborn (Python), ggplot2 (R), Tableau\n",
    "Machine Learning\tScikit-learn, TensorFlow, PyTorch (Python), caret (R)\n",
    "Big Data\tApache Hadoop, Apache Spark\n",
    "Database\tSQL, MongoDB, PostgreSQL\n",
    "Version Control\tGit, GitHub, GitLab\n",
    "Dashboarding\tTableau, Power BI, Dash (Python)\n",
    "Cloud Platforms\tAWS, Azure, Google Cloud\n"
   ]
  },
  {
   "cell_type": "markdown",
   "id": "a1a5e8e1-24ce-45ee-bcd0-d1dc9bddbfff",
   "metadata": {
    "tags": []
   },
   "source": [
    "Examples of Arthmetic Expression"
   ]
  },
  {
   "cell_type": "code",
   "execution_count": 5,
   "id": "2d377d41-d6ff-420e-855c-02826a657924",
   "metadata": {
    "tags": []
   },
   "outputs": [
    {
     "data": {
      "text/plain": [
       "28"
      ]
     },
     "execution_count": 5,
     "metadata": {},
     "output_type": "execute_result"
    }
   ],
   "source": [
    "# Addition and multiplication\n",
    "(3+4)*4"
   ]
  },
  {
   "cell_type": "code",
   "execution_count": 6,
   "id": "193aaad1-e9ea-480a-bc89-d58332805264",
   "metadata": {
    "tags": []
   },
   "outputs": [
    {
     "name": "stdout",
     "output_type": "stream",
     "text": [
      "120 minutes is equal to 2.0 hours.\n"
     ]
    }
   ],
   "source": [
    "# minutes to hours \n",
    "minutes_input = 120\n",
    "hours_output = minutes_input / 60\n",
    "print(f\"{minutes_input} minutes is equal to {hours_output} hours.\")\n"
   ]
  },
  {
   "cell_type": "markdown",
   "id": "25df72fb-66a5-47b3-a327-09cd49d6906b",
   "metadata": {},
   "source": [
    "Objective:\n",
    "the objective was to use python to find how many hours is it in the minutes provided my me\n",
    "i created two variables minutes_input, hours_output and I divided output with 60 because 1 hour = 60 minutes"
   ]
  },
  {
   "cell_type": "markdown",
   "id": "4a5765ef-5b4f-4163-bc1b-8f4a16a57a87",
   "metadata": {},
   "source": [
    "by-Devank Banga"
   ]
  },
  {
   "cell_type": "code",
   "execution_count": null,
   "id": "5bf05e21-ba71-4677-9de1-cde775fd2bc8",
   "metadata": {},
   "outputs": [],
   "source": []
  }
 ],
 "metadata": {
  "kernelspec": {
   "display_name": "Python",
   "language": "python",
   "name": "conda-env-python-py"
  },
  "language_info": {
   "codemirror_mode": {
    "name": "ipython",
    "version": 3
   },
   "file_extension": ".py",
   "mimetype": "text/x-python",
   "name": "python",
   "nbconvert_exporter": "python",
   "pygments_lexer": "ipython3",
   "version": "3.7.12"
  }
 },
 "nbformat": 4,
 "nbformat_minor": 5
}
